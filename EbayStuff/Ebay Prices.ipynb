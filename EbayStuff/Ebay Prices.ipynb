{
 "cells": [
  {
   "cell_type": "code",
   "execution_count": 1,
   "id": "84250e9b",
   "metadata": {},
   "outputs": [
    {
     "name": "stdout",
     "output_type": "stream",
     "text": [
      "Requirement already satisfied: python-dotenv in /Users/jacoblewsey/anaconda3/lib/python3.11/site-packages (1.0.1)\n",
      "Requirement already satisfied: ebaysdk in /Users/jacoblewsey/anaconda3/lib/python3.11/site-packages (2.2.0)\n",
      "Requirement already satisfied: lxml in /Users/jacoblewsey/anaconda3/lib/python3.11/site-packages (from ebaysdk) (4.9.2)\n",
      "Requirement already satisfied: requests in /Users/jacoblewsey/anaconda3/lib/python3.11/site-packages (from ebaysdk) (2.31.0)\n",
      "Requirement already satisfied: charset-normalizer<4,>=2 in /Users/jacoblewsey/anaconda3/lib/python3.11/site-packages (from requests->ebaysdk) (2.0.4)\n",
      "Requirement already satisfied: idna<4,>=2.5 in /Users/jacoblewsey/anaconda3/lib/python3.11/site-packages (from requests->ebaysdk) (3.4)\n",
      "Requirement already satisfied: urllib3<3,>=1.21.1 in /Users/jacoblewsey/anaconda3/lib/python3.11/site-packages (from requests->ebaysdk) (1.26.16)\n",
      "Requirement already satisfied: certifi>=2017.4.17 in /Users/jacoblewsey/anaconda3/lib/python3.11/site-packages (from requests->ebaysdk) (2023.7.22)\n"
     ]
    }
   ],
   "source": [
    "!pip install python-dotenv\n",
    "!pip install ebaysdk\n"
   ]
  },
  {
   "cell_type": "code",
   "execution_count": 2,
   "id": "cb25bbe0",
   "metadata": {},
   "outputs": [],
   "source": [
    "from dotenv import load_dotenv"
   ]
  },
  {
   "cell_type": "code",
   "execution_count": 3,
   "id": "20b9a39a",
   "metadata": {},
   "outputs": [],
   "source": [
    "import datetime\n",
    "from ebaysdk.exception import ConnectionError\n",
    "from ebaysdk.finding import Connection\n",
    "\n",
    "API_KEY = 'JacobLew-MainWebs-PRD-1e5930c56-81329b75'\n",
    "\n",
    "class Ebay_21(object):\n",
    "    def __init__(self, API_KEY):\n",
    "        self.api_key = API_KEY\n",
    "    \n",
    "    def fetch(self):\n",
    "        try:\n",
    "            api = Connection(appid=self.api_key, config_file=None)\n",
    "            response = api.execute('findItemsAdvanced', {\n",
    "                'keywords': 'PSA 10 Japanese Mega Rayquaza EX 095/081',\n",
    "                'itemFilter': [\n",
    "                    {'name': 'MinPrice', 'value': 100},\n",
    "                    {'name': 'MaxPrice', 'value': 750},\n",
    "                    {'name': 'MaxEntries', 'value': 10}, # 10 max entries between 100-750\n",
    "                ]\n",
    "            })\n",
    "            #print(response.reply)\n",
    "\n",
    "            prices = [float(item.sellingStatus.currentPrice.value) for item in response.reply.searchResult.item]\n",
    "            print(\"The average is:\", int(round(sum(prices)/len(prices))))\n",
    "            \n",
    "            for item in response.reply.searchResult.item:\n",
    "                print(f\"Title: {item.title} Price: {item.sellingStatus.currentPrice.value}\")\n",
    "            \n",
    "        except ConnectionError as e:\n",
    "            print(e)\n",
    "            print(e.response.dict())\n",
    "        \n",
    "                    \n",
    "    def parse(self):\n",
    "        pass     \n"
   ]
  },
  {
   "cell_type": "code",
   "execution_count": 4,
   "id": "da6f308e",
   "metadata": {},
   "outputs": [
    {
     "name": "stdout",
     "output_type": "stream",
     "text": [
      "The average is: 412\n",
      "Title: Pokemon M Rayquaza EX UR Japanese Bandit Ring Unlimited 095/081 PSA 10 Price: 409.99\n",
      "Title: M Rayquaza EX Pokemon 2015 FA XY7 Bandit Ring UR Ued Japanese 095/081 PSA 10 Price: 360.0\n",
      "Title: PSA10 M Rayquaza EX 095/081 UR XY7 1st ED Holo Rare PokemonCard 2015 Japanese #2 Price: 430.0\n",
      "Title: M Rayquaza EX Pokemon 2015 FA XY7 Bandit Ring UR 1st ED Japanese 095/081 PSA 10 Price: 419.99\n",
      "Title: PSA 10 Nintendo Pokemon Card M Rayquaza EX Bandit Ring 095/081 Holo Japanese Price: 440.0\n"
     ]
    }
   ],
   "source": [
    "e = Ebay_21(API_KEY)\n",
    "e.fetch()\n",
    "e.parse()"
   ]
  },
  {
   "cell_type": "code",
   "execution_count": null,
   "id": "db331b5f",
   "metadata": {},
   "outputs": [],
   "source": []
  },
  {
   "cell_type": "code",
   "execution_count": 5,
   "id": "d564f77c",
   "metadata": {},
   "outputs": [
    {
     "name": "stdout",
     "output_type": "stream",
     "text": [
      " * Serving Flask app '__main__'\n",
      " * Debug mode: on\n"
     ]
    },
    {
     "name": "stderr",
     "output_type": "stream",
     "text": [
      "WARNING: This is a development server. Do not use it in a production deployment. Use a production WSGI server instead.\n",
      " * Running on http://127.0.0.1:5000\n",
      "Press CTRL+C to quit\n",
      " * Restarting with watchdog (fsevents)\n",
      "Traceback (most recent call last):\n",
      "  File \"/Users/jacoblewsey/anaconda3/lib/python3.11/site-packages/ipykernel_launcher.py\", line 15, in <module>\n",
      "    from ipykernel import kernelapp as app\n",
      "  File \"/Users/jacoblewsey/anaconda3/lib/python3.11/site-packages/ipykernel/__init__.py\", line 5, in <module>\n",
      "    from .connect import *  # noqa\n",
      "    ^^^^^^^^^^^^^^^^^^^^^^\n",
      "  File \"/Users/jacoblewsey/anaconda3/lib/python3.11/site-packages/ipykernel/connect.py\", line 11, in <module>\n",
      "    import jupyter_client\n",
      "  File \"/Users/jacoblewsey/anaconda3/lib/python3.11/site-packages/jupyter_client/__init__.py\", line 8, in <module>\n",
      "    from .asynchronous import AsyncKernelClient  # noqa\n",
      "    ^^^^^^^^^^^^^^^^^^^^^^^^^^^^^^^^^^^^^^^^^^^\n",
      "  File \"/Users/jacoblewsey/anaconda3/lib/python3.11/site-packages/jupyter_client/asynchronous/__init__.py\", line 1, in <module>\n",
      "    from .client import AsyncKernelClient  # noqa\n",
      "    ^^^^^^^^^^^^^^^^^^^^^^^^^^^^^^^^^^^^^\n",
      "  File \"/Users/jacoblewsey/anaconda3/lib/python3.11/site-packages/jupyter_client/asynchronous/client.py\", line 8, in <module>\n",
      "    from jupyter_client.client import KernelClient\n",
      "  File \"/Users/jacoblewsey/anaconda3/lib/python3.11/site-packages/jupyter_client/client.py\", line 22, in <module>\n",
      "    from .connect import ConnectionFileMixin\n",
      "  File \"/Users/jacoblewsey/anaconda3/lib/python3.11/site-packages/jupyter_client/connect.py\", line 27, in <module>\n",
      "    from jupyter_core.paths import jupyter_data_dir\n",
      "  File \"/Users/jacoblewsey/anaconda3/lib/python3.11/site-packages/jupyter_core/paths.py\", line 19, in <module>\n",
      "    from pathlib import Path\n",
      "  File \"/Users/jacoblewsey/anaconda3/lib/python3.11/site-packages/pathlib.py\", line 10, in <module>\n",
      "    from collections import Sequence\n",
      "ImportError: cannot import name 'Sequence' from 'collections' (/Users/jacoblewsey/anaconda3/lib/python3.11/collections/__init__.py)\n"
     ]
    },
    {
     "ename": "SystemExit",
     "evalue": "1",
     "output_type": "error",
     "traceback": [
      "An exception has occurred, use %tb to see the full traceback.\n",
      "\u001b[0;31mSystemExit\u001b[0m\u001b[0;31m:\u001b[0m 1\n"
     ]
    },
    {
     "name": "stderr",
     "output_type": "stream",
     "text": [
      "/Users/jacoblewsey/anaconda3/lib/python3.11/site-packages/IPython/core/interactiveshell.py:3513: UserWarning: To exit: use 'exit', 'quit', or Ctrl-D.\n",
      "  warn(\"To exit: use 'exit', 'quit', or Ctrl-D.\", stacklevel=1)\n"
     ]
    }
   ],
   "source": [
    "from flask import Flask, render_template\n",
    "\n",
    "app = Flask(__name__)\n",
    "\n",
    "@app.route('/')\n",
    "def index():\n",
    "    # Fetch the eBay price using your API logic\n",
    "    api = Connection(appid='YourAppID', config_file=None)\n",
    "    response = api.execute('findCompletedItems', {\n",
    "        'keywords': 'PSA 10 Japanese Mega Rayquaza EX 095/081',\n",
    "        'itemFilter': [\n",
    "            {'name': 'SoldItemsOnly', 'value': 'true'},\n",
    "            {'name': 'MaxEntries', 'value': '1'}  # Limit to top 1 item\n",
    "        ]\n",
    "    })\n",
    "    \n",
    "    # Extract price from the response\n",
    "    item = response.reply.searchResult.item[0]\n",
    "    price = item.sellingStatus.currentPrice.value\n",
    "\n",
    "    # Pass the price to the HTML template\n",
    "    return render_template('index.html', price=price)\n",
    "\n",
    "if __name__ == '__main__':\n",
    "    app.run(debug=True)"
   ]
  },
  {
   "cell_type": "code",
   "execution_count": null,
   "id": "8ad76dc1",
   "metadata": {},
   "outputs": [],
   "source": []
  }
 ],
 "metadata": {
  "kernelspec": {
   "display_name": "Python 3",
   "language": "python",
   "name": "python3"
  },
  "language_info": {
   "codemirror_mode": {
    "name": "ipython",
    "version": 3
   },
   "file_extension": ".py",
   "mimetype": "text/x-python",
   "name": "python",
   "nbconvert_exporter": "python",
   "pygments_lexer": "ipython3",
   "version": "3.10.1 (v3.10.1:2cd268a3a9, Dec  6 2021, 14:28:59) [Clang 13.0.0 (clang-1300.0.29.3)]"
  },
  "vscode": {
   "interpreter": {
    "hash": "aee8b7b246df8f9039afb4144a1f6fd8d2ca17a180786b69acc140d282b71a49"
   }
  }
 },
 "nbformat": 4,
 "nbformat_minor": 5
}
